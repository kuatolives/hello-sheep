{
  "nbformat": 4,
  "nbformat_minor": 0,
  "metadata": {
    "colab": {
      "provenance": [],
      "authorship_tag": "ABX9TyMrHaF3j+UntiaTseqwGGRv",
      "include_colab_link": true
    },
    "kernelspec": {
      "name": "python3",
      "display_name": "Python 3"
    },
    "language_info": {
      "name": "python"
    }
  },
  "cells": [
    {
      "cell_type": "markdown",
      "metadata": {
        "id": "view-in-github",
        "colab_type": "text"
      },
      "source": [
        "<a href=\"https://colab.research.google.com/github/kuatolives/hello-sheep/blob/master/thinkpythoncpt3.ipynb\" target=\"_parent\"><img src=\"https://colab.research.google.com/assets/colab-badge.svg\" alt=\"Open In Colab\"/></a>"
      ]
    },
    {
      "cell_type": "markdown",
      "source": [
        "Exercise 3.1 From Think Python"
      ],
      "metadata": {
        "id": "D6RLqR9bH8dx"
      }
    },
    {
      "cell_type": "code",
      "execution_count": 3,
      "metadata": {
        "colab": {
          "base_uri": "https://localhost:8080/"
        },
        "id": "TtcIidXDGJWq",
        "outputId": "60d077ef-e079-4a96-e379-94e1332797b5"
      },
      "outputs": [
        {
          "output_type": "stream",
          "name": "stdout",
          "text": [
            "___________________________________test1\n",
            "_____________________________longer test\n"
          ]
        }
      ],
      "source": [
        "def print_justify(s, n=0, fill=' '):\n",
        "  print(fill * n + s)\n",
        "\n",
        "def print_right(s):\n",
        "  print_justify(s, 40-len(s), '_')\n",
        "\n",
        "print_right('test1')\n",
        "print_right('longer test')"
      ]
    }
  ]
}